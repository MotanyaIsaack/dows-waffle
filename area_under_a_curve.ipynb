{
 "cells": [
  {
   "cell_type": "markdown",
   "metadata": {},
   "source": [
    "n represnets the subintervals\n",
    "xmin and xmax represents the range of x\n",
    "y is a list that will hold the values of f(x)"
   ]
  },
  {
   "cell_type": "code",
   "execution_count": 8,
   "metadata": {},
   "outputs": [],
   "source": [
    "xmin = 0\n",
    "xmax = 10\n",
    "n = 5\n",
    "y = [4,6,6,4,4,5]\n"
   ]
  },
  {
   "cell_type": "code",
   "execution_count": 9,
   "metadata": {},
   "outputs": [],
   "source": [
    "def trapezoidal_rule(y):\n",
    "    change_in_x = ((xmax - xmin) / n)\n",
    "    size_of_y = len(y)\n",
    "    result = 0\n",
    "    for i in range(size_of_y):\n",
    "        if i!=0 and i!=size_of_y - 1:\n",
    "            result = result + 2*y[i]\n",
    "        else:\n",
    "            result = result + y[i]\n",
    "    result = result * (change_in_x / 2)\n",
    "    return result"
   ]
  },
  {
   "cell_type": "code",
   "execution_count": 10,
   "metadata": {},
   "outputs": [
    {
     "output_type": "stream",
     "name": "stdout",
     "text": [
      "49.0\n"
     ]
    }
   ],
   "source": [
    "final_result = trapezoidal_rule(y)\n",
    "print(final_result)"
   ]
  }
 ],
 "metadata": {
  "kernelspec": {
   "display_name": "Python 3",
   "language": "python",
   "name": "python3"
  },
  "language_info": {
   "codemirror_mode": {
    "name": "ipython",
    "version": 3
   },
   "file_extension": ".py",
   "mimetype": "text/x-python",
   "name": "python",
   "nbconvert_exporter": "python",
   "pygments_lexer": "ipython3",
   "version": "3.7.3-final"
  }
 },
 "nbformat": 4,
 "nbformat_minor": 2
}